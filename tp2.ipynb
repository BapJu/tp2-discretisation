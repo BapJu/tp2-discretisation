{
 "cells": [
  {
   "cell_type": "markdown",
   "source": [
    "# TP2 python : Différentiation propagation"
   ],
   "metadata": {
    "collapsed": false
   },
   "id": "448f0f4fcf4e7ebc"
  },
  {
   "cell_type": "markdown",
   "source": [
    "### 1.1 Dérivé d'ordre 1\n",
    "\n",
    "Bien sûr, voici la réponse reformulée avec les délimiteurs spécifiques de mode mathématique LaTeX :\n",
    "\n",
    "La dérivée d'une fonction $\\( f \\)$ en un point $\\( t_0 \\)$ est définie comme la limite du taux de variation de cette fonction lorsque l'intervalle de temps tend vers zéro. Mathématiquement, elle est exprimée par la formule suivante :\n",
    "\n",
    "\\begin{equation}\n",
    "f'(t_0) = \\lim_{\\Delta t \\to 0} \\frac{f(t_0 + \\Delta t) - f(t_0)}{\\Delta t}\n",
    "\\end{equation}\n",
    "\n",
    "Dans le contexte d'une méthode de différences finies sur un intervalle discret, où la fonction $\\( f \\)$ est définie en des points $\\( t_i \\)$ avec $\\( t_i = t_{\\text{min}} + i \\cdot \\Delta t \\)$ et un pas constant $\\( \\Delta t = \\frac{t_{\\text{max}} - t_{\\text{min}}}{n} \\)$, cette définition doit être adaptée car la limite $\\( \\Delta t \\to 0 \\)$ n'est pas applicable dans un contexte discret.\n",
    "\n",
    "Ainsi, on approxime la dérivée de $\\( f \\)$ en un point $\\( t_i \\)$ en utilisant les valeurs de $\\( f \\)$ aux points adjacents. La forme la plus simple est la différence avant ou arrière, définie respectivement par :\n",
    "\n",
    "- **Différence avant :**\n",
    "\n",
    "\\begin{equation}\n",
    "f'(t_i) \\approx \\frac{f(t_{i+1}) - f(t_i)}{\\Delta t}\n",
    "\\end{equation}\n",
    "\n",
    "- **Différence arrière :**\n",
    "\n",
    "\\begin{equation}\n",
    "f'(t_i) \\approx \\frac{f(t_i) - f(t_{i-1})}{\\Delta t}\n",
    "\\end{equation}\n",
    "\n",
    "Ces formules fournissent une approximation de la dérivée première de $\\( f \\)$ à un point $\\( t_i \\)$ en utilisant les valeurs de $\\( f \\)$ dans l'intervalle discret. La précision de cette approximation dépend de la taille du pas $\\( \\Delta t \\)$ et de la nature de la fonction $\\( f \\)$."
   ],
   "metadata": {
    "collapsed": false
   },
   "id": "ebaecd8bcd0ee7b"
  },
  {
   "cell_type": "markdown",
   "source": [
    "Pour exprimer $f(t_0 + \\Delta t)$ en fonction de $f$ et de ses dérivées prises en $t_0$ en utilisant un développement en série de Taylor et en s'arrêtant à l'ordre 3, on utilise la formule de Taylor suivante :\n",
    "\n",
    "\\begin{equation}\n",
    "f(t_0 + \\Delta t) = f(t_0) + f'(t_0)\\Delta t + \\frac{f''(t_0)}{2!}\\Delta t^2 + \\frac{f'''(t_0)}{3!}\\Delta t^3 + O(\\Delta t^4)\n",
    "\\end{equation}\n",
    "\n",
    "Ici, $f'(t_0)$, $f''(t_0)$, et $f'''(t_0)$ sont respectivement la première, la seconde et la troisième dérivée de $f$ évaluées en $t_0$. Le terme $O(\\Delta t^4)$ indique que l'erreur de cette approximation est de l'ordre de $\\Delta t^4$, ce qui signifie que l'erreur devient négligeable lorsque $\\Delta t$ est très petit.\n",
    "\n",
    "Dans cette formule :\n",
    "- $f(t_0)$ est la valeur de la fonction en $t_0$.\n",
    "- $f'(t_0)\\Delta t$ représente la variation linéaire de la fonction.\n",
    "- $\\frac{f''(t_0)}{2!}\\Delta t^2$ est le terme de correction quadratique.\n",
    "- $\\frac{f'''(t_0)}{3!}\\Delta t^3$ est le terme de correction cubique.\n",
    "\n",
    "Cette expression est utile pour estimer la valeur de la fonction $f$ à un point proche de $t_0$ lorsque $\\Delta t$ est petit, et elle est fondamentale dans de nombreuses applications en analyse numérique et en résolution d'équations différentielles."
   ],
   "metadata": {
    "collapsed": false
   },
   "id": "b6e8f93d5aa50ee8"
  },
  {
   "cell_type": "markdown",
   "source": [
    "Pour obtenir une expression de la dérivée de $f$ en $t_0$ avec une erreur en $O(\\Delta t)$, nous pouvons utiliser le développement en série de Taylor de $f(t_0 + \\Delta t)$ et de $f(t_0 - \\Delta t)$ autour de $t_0$. Puis, nous formons une combinaison de ces expressions pour isoler $f'(t_0)$.\n",
    "\n",
    "Le développement de Taylor de $f(t_0 + \\Delta t)$ et $f(t_0 - \\Delta t)$ jusqu'à l'ordre 2 est donné par :\n",
    "\n",
    "\\begin{equation}\n",
    "f(t_0 + \\Delta t) = f(t_0) + f'(t_0)\\Delta t + \\frac{f''(t_0)}{2}\\Delta t^2 + O(\\Delta t^3)\n",
    "\\end{equation}\n",
    "\n",
    "\\begin{equation}\n",
    "f(t_0 - \\Delta t) = f(t_0) - f'(t_0)\\Delta t + \\frac{f''(t_0)}{2}\\Delta t^2 + O(\\Delta t^3)\n",
    "\\end{equation}\n",
    "\n",
    "En soustrayant la seconde équation de la première, nous obtenons :\n",
    "\n",
    "\\begin{equation}\n",
    "f(t_0 + \\Delta t) - f(t_0 - \\Delta t) = 2f'(t_0)\\Delta t + O(\\Delta t^3)\n",
    "\\end{equation}\n",
    "\n",
    "Pour isoler $f'(t_0)$, nous réarrangeons cette équation :\n",
    "\n",
    "\\begin{equation}\n",
    "f'(t_0) = \\frac{f(t_0 + \\Delta t) - f(t_0 - \\Delta t)}{2\\Delta t} + O(\\Delta t^2)\n",
    "\\end{equation}\n",
    "\n",
    "Cette formule représente une approximation de la dérivée première de $f$ en $t_0$ en utilisant la méthode des différences centrées. L'erreur de cette approximation est de l'ordre de $O(\\Delta t^2)$, mais puisque nous divisons par $2\\Delta t$, l'erreur dans l'estimation de $f'(t_0)$ est de l'ordre de $O(\\Delta t)$. Cette méthode est plus précise que les différences avant ou arrière pour un même pas $\\Delta t$."
   ],
   "metadata": {
    "collapsed": false
   },
   "id": "2562008dd7d0b368"
  },
  {
   "cell_type": "markdown",
   "source": [
    "Pour obtenir une expression de la dérivée de $f$ en $t_0$ à l'ordre 3 avec une erreur en $O(\\Delta t^3)$, on utilise un développement en série de Taylor à un ordre supérieur. \n",
    "\n",
    "En utilisant le développement de Taylor de $f(t_0 + \\Delta t)$ et $f(t_0 - \\Delta t)$ jusqu'à l'ordre 3, on a :\n",
    "\n",
    "\\begin{equation}\n",
    "f(t_0 + \\Delta t) = f(t_0) + f'(t_0)\\Delta t + \\frac{f''(t_0)}{2}\\Delta t^2 + \\frac{f'''(t_0)}{6}\\Delta t^3 + O(\\Delta t^4)\n",
    "\\end{equation}\n",
    "\n",
    "\\begin{equation}\n",
    "f(t_0 - \\Delta t) = f(t_0) - f'(t_0)\\Delta t + \\frac{f''(t_0)}{2}\\Delta t^2 - \\frac{f'''(t_0)}{6}\\Delta t^3 + O(\\Delta t^4)\n",
    "\\end{equation}\n",
    "\n",
    "En soustrayant ces deux équations, on obtient :\n",
    "\n",
    "\\begin{equation}\n",
    "f(t_0 + \\Delta t) - f(t_0 - \\Delta t) = 2f'(t_0)\\Delta t + \\frac{f'''(t_0)}{3}\\Delta t^3 + O(\\Delta t^5)\n",
    "\\end{equation}\n",
    "\n",
    "Pour isoler $f'(t_0)$, on réarrange cette équation :\n",
    "\n",
    "\\begin{equation}\n",
    "f'(t_0) = \\frac{f(t_0 + \\Delta t) - f(t_0 - \\Delta t)}{2\\Delta t} - \\frac{f'''(t_0)}{6}\\Delta t^2 + O(\\Delta t^3)\n",
    "\\end{equation}\n",
    "\n",
    "Cette formule représente une approximation de la dérivée première de $f$ en $t_0$ en utilisant une méthode de différences centrées avec un terme de correction pour améliorer la précision. L'erreur dans cette approximation est de l'ordre de $O(\\Delta t^3)$. Cela offre une meilleure précision pour la dérivée première par rapport aux développements à l'ordre inférieur."
   ],
   "metadata": {
    "collapsed": false
   },
   "id": "649dc8e12576710"
  },
  {
   "cell_type": "code",
   "execution_count": null,
   "outputs": [],
   "source": [],
   "metadata": {
    "collapsed": false,
    "ExecuteTime": {
     "end_time": "2024-01-17T08:28:47.206336200Z",
     "start_time": "2024-01-17T08:28:47.199825700Z"
    }
   },
   "id": "3d7a3df948ad0de5"
  },
  {
   "cell_type": "code",
   "execution_count": null,
   "outputs": [],
   "source": [],
   "metadata": {
    "collapsed": false,
    "ExecuteTime": {
     "end_time": "2024-01-17T08:28:47.224855200Z",
     "start_time": "2024-01-17T08:28:47.210211700Z"
    }
   },
   "id": "9be562a4a7365862"
  }
 ],
 "metadata": {
  "kernelspec": {
   "display_name": "Python 3",
   "language": "python",
   "name": "python3"
  },
  "language_info": {
   "codemirror_mode": {
    "name": "ipython",
    "version": 2
   },
   "file_extension": ".py",
   "mimetype": "text/x-python",
   "name": "python",
   "nbconvert_exporter": "python",
   "pygments_lexer": "ipython2",
   "version": "2.7.6"
  }
 },
 "nbformat": 4,
 "nbformat_minor": 5
}
